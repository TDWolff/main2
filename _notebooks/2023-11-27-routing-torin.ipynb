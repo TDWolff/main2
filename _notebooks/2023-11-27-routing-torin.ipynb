{
 "cells": [
  {
   "cell_type": "markdown",
   "metadata": {},
   "source": [
    "  # routing and computing\n",
    "  \n",
    "  ### Popcorn hack 1:\n",
    "\n",
    "This network fault is not tolerent. If the Oakland to Austin link is down, then the network will be disconnected. To make this network fault tolerent, we can add a link from Oakland to Tampa. Then the network will be connected even if the Oakland to Austin link is down.\n",
    "\n",
    "  ### Popcorn hack 2:\n",
    "A would fix this issue.\n",
    "\n",
    "  ### Popcorn hack 3:\n",
    "  1 is sequential computing bc its small operations\n",
    "  \n",
    "  2 is distrubuted as it works asynchronously\n",
    "  \n",
    "  3 is parallel computing as it is a network of computers"
   ]
  }
 ],
 "metadata": {
  "language_info": {
   "name": "python"
  }
 },
 "nbformat": 4,
 "nbformat_minor": 2
}
