{
 "cells": [
  {
   "cell_type": "markdown",
   "metadata": {},
   "source": [
    "  # routing and computing\n",
    "  \n",
    "  ### Popcorn hack 1:\n",
    "\n",
    "This network fault is not tolerent. If the Oakland to Austin link is down, then the network will be disconnected. To make this network fault tolerent, we can add a link from Oakland to Tampa. Then the network will be connected even if the Oakland to Austin link is down.\n",
    "\n",
    "  ### Popcorn hack 2:\n",
    "A would fix this issue.\n",
    "\n",
    "  ### Popcorn hack 3:\n",
    "  1 is sequential computing bc its small operations\n",
    "  \n",
    "  2 is distrubuted as it works asynchronously\n",
    "  \n",
    "  3 is parallel computing as it is a network of computers\n",
    "\n",
    "\n",
    "## Analysis On Lesson\n",
    "Routing is the method by which data is sent from one device to another through a network. The routing process usually includes forwarding which is where the data of a website or server is sent from the main router to another where the user is accessing the server information from. The routing process also includes switching which is where the data being sent to one computer is transferred to another device to handle the data."
   ]
  }
 ],
 "metadata": {
  "language_info": {
   "name": "python"
  }
 },
 "nbformat": 4,
 "nbformat_minor": 2
}
