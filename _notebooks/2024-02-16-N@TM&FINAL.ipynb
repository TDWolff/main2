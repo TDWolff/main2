{
 "cells": [
  {
   "cell_type": "markdown",
   "metadata": {},
   "source": [
    "---\n",
    "toc: true\n",
    "comments: true\n",
    "layout: post\n",
    "title: N@TM And Final Project Review\n",
    "description: individual work on N@TM and final project review\n",
    "type: plans\n",
    "courses: { compsci: {week: 10} }\n",
    "---"
   ]
  },
  {
   "cell_type": "markdown",
   "metadata": {},
   "source": [
    "# N@TM\n",
    "Our team's idea for the CPT project was to make a stock and housing market and similations for stocks and crypto currency. We wanted to make a website that would allow users to search for stocks and see their current price and other information. We also wanted to make a simulation for the stock market and crypto currency We also made a housing market search algorithm to search for the price and other information about a house. \n",
    "\n",
    "# What Each Person Did\n",
    "![stocksearch](/main2/images/stocksearch.png)\n",
    "<div style=\"display: flex; align-items: flex-start;\">\n",
    "<p>\n",
    "I worked on a stock search algorithm where I provide vital information about a stock as seen in F1. This was done using the YahooFinance API which allowed me to find the current price of a stock found via the symbol and other necessary information such as EPS, PE, Average Volume, and Price Average over 50, and 200 days. I personally enjoyed making this feature because it allowed me to discover and learn about stocks which I enjoy researching.\n",
    "</p>\n",
    "</div>\n",
    "<div style=\"display: flex; align-items: flex-start;\">\n",
    "<p>\n",
    "Nandan worked on making a simulation of a Crypto currency which he made up. His feature allowed for users to buy and sell a Crypto currency that we came up with called AtlasCoin (Trademark Pending). Sergi worked on a house market search feature where the user searched for a house and it provided information about houses on sale near that house. You could see the square feet, bedrooms, bathrooms and the current cost as well as an image of the house. Varun worked on a simulated stock market where you could buy and sell a stock and earn or loose money based on a simulated alrogithm which faked a real stock. You could purchase stocks and watch the stock price go up and down.\n",
    "</p>\n",
    "</div>\n",
    "\n",
    "# How we implemented the requirements from CPT into our project\n",
    "\n",
    "| Collegeboard Requirements | Our Project |\n",
    "| --- | --- |\n",
    "| Instructions for input from one of the following: the user, a device, an online data stream, a file. | Our project takes in user credentials and JWT tokens for authentication. |\n",
    "| Use of at least one list (or other collection type) to represent a collection of data that is stored and used to manage program complexity and help fulfill the users purpose. | We use SQLite tables to store and manage data about users and stocks. |\n",
    "| At least one procedure that contributed to the program’s intended purpose where you have defined: the name, return type, one or more parameters. | We have procedures for user authentication and authorization, which take JWT tokens and user credentials as parameters. |\n",
    "| An algorithm that includes sequencing, selection, and iteration that is in the body of the selected procedure. | Our authentication algorithm includes sequencing (checking JWT token, then cookie), selection (redirecting based on user or admin status). |\n",
    "| Calls to your student-developed procedure. | Our procedures for user management and stock management are called throughout the application. |\n",
    "| Instructions for output (tactile, audible, visual, or ) based on input and program functionality. | Our project provides visual output based on user input and actions, such as confirmation of login, display of stock information, and user/admin access to various features. |\n",
    "\n",
    "![SQLITEDB](/main2/images/sqlitedb.png)\n",
    "\n",
    "# Heres some links to issues and commits that were of importance to our project\n",
    " - [Commit #b2c1a8a](https://github.com/TDWolff/cpt/commit/b2c1a8aa543f8d62d48be146edc7bf1990e65870) This commit was crucial cause it was when I finished the stock search algorithm, this was the second time I had to \"finish\" the algorithm as the first time it was returning errors and not working properly.\n",
    " - [Commit #734d6cc](https://github.com/TDWolff/cpt/commit/734d6cca28c49a4f32fa81e5fc2424818032ac93) This was when we first implemented a schema change which is where you add or remove a column, in our project this was when we made the phone number column to allow for a phone number to be added to a users information.\n",
    " - [Issue #2](https://github.com/TDWolff/AtlasIndex/issues/2) This issue was a hurdle for out project where we were having issues with CORS and cpt project requirements. We were having issues with the JWT token and the sqlite db. We were able to fix this issue by adding a few lines of code to our main.py and init.py files.\n",
    " - [Issue #7](https://github.com/TDWolff/AtlasIndex/issues/7) This was the issue for out team where we started compiling all our work for N@TM which was where we demoed out project for parents and other students.\n",
    "\n",
    "# Commits that show work I did\n",
    "- [Commit #7da755f](https://github.com/TDWolff/AtlasIndex/commit/7da755ffdb4e4c9e72b70c7f89a92f3e24231590) This was when I finally finished the Stock Search frontend webpage.\n",
    "- [Commit #d7704db](https://github.com/TDWolff/cpt/commit/d7704dbb0a1f02ed9b9f763e364a6e7870255187) This commit was when I finally linked the SQLite db to the stock search algorithm allowing for seamless integration of the stock search algorithm.\n",
    "- [Commit #4f995b6](https://github.com/TDWolff/cpt/commit/4f995b65049192923096d879ec5e331dc44e449a) This commit was important because it was when I first implemented the Sign in function, although it was basic it was ground breaking as we could finally keep track of users."
   ]
  }
 ],
 "metadata": {
  "language_info": {
   "name": "python"
  }
 },
 "nbformat": 4,
 "nbformat_minor": 2
}
