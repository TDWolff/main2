{
 "cells": [
  {
   "cell_type": "markdown",
   "metadata": {},
   "source": [
    "---\n",
    "toc: true\n",
    "comments: true\n",
    "layout: post\n",
    "title: Spot Check Review\n",
    "description: Individual Spot Check Review for Torin Wolff\n",
    "type: plans\n",
    "courses: { compsci: {week: 9} }\n",
    "---"
   ]
  },
  {
   "cell_type": "markdown",
   "metadata": {},
   "source": [
    "# Welcome to my Spot Check Review For 2024-01-30!\n",
    "\n",
    "## What has been worked on:\n",
    "- database, with database change.\n",
    "- postman with /authentication screen.\n",
    "- postman with /api screen to access data under authentication.\n",
    "- jupyter notebook or web page that shows signup and login.\n",
    "- jupyter notebook or web page that shows redirect of 403 to signup and login page.\n",
    "- jupyter notebook that shows CRUD operation on page that requires authentication.\n",
    "\n"
   ]
  }
 ],
 "metadata": {
  "language_info": {
   "name": "python"
  }
 },
 "nbformat": 4,
 "nbformat_minor": 2
}
