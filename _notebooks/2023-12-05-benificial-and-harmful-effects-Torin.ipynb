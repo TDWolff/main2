{
 "cells": [
  {
   "cell_type": "markdown",
   "metadata": {},
   "source": [
    "# Benificial and Harmful Effects of Technology\n",
    "\n",
    "## Popcorn hack #1:\n",
    "- Accleleromters help the phone know whether it undergoes acceleration in any direction, same with automobiles. This helps the phone know when to rotate the screen, and the car know when to deploy airbags.\n",
    "  \n",
    "## Popcorn hack #2:\n",
    "- Computing innovation has many useful applications and many benifits but also many negatives. Some beneficial effects of computing innovations include: \n",
    "    Improved efficiency\n",
    "    Better communication\n",
    "    More convenient lives\n",
    "    Reduced costs\n",
    "    More output with the same input\n",
    "- Some Harmful Effects include: \n",
    "    Job displacement\n",
    "    Economic shifts\n",
    "    Social disruption\n",
    "    Addiction\n",
    "    Poor communication skills\n",
    "    Health issues\n",
    "    Discrimination\n",
    "\n",
    "\n",
    "## Overiew of this lesson:\n",
    "The lesson covers the dual impact of computing innovations, citing positive aspects like medical advancements and efficiency, as well as negatives such as privacy concerns and job displacement. It touches on issues like microtransactions in gaming and the adverse effects of dopamine feedback loops on social media, stressing the importance of balance and awareness in technology use."
   ]
  }
 ],
 "metadata": {
  "language_info": {
   "name": "python"
  }
 },
 "nbformat": 4,
 "nbformat_minor": 2
}
