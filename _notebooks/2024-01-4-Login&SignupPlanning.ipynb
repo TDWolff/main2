{
 "cells": [
  {
   "cell_type": "markdown",
   "metadata": {},
   "source": [
    "---\n",
    "toc: true\n",
    "comments: true\n",
    "layout: post\n",
    "title: Flask Overview\n",
    "description: Flask Overview and Tips.\n",
    "type: plans\n",
    "courses: { compsci: {week: 4} }\n",
    "---"
   ]
  }
 ],
 "metadata": {
  "language_info": {
   "name": "python"
  }
 },
 "nbformat": 4,
 "nbformat_minor": 2
}
