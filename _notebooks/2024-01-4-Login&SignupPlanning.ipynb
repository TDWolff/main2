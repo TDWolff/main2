{
 "cells": [
  {
   "cell_type": "markdown",
   "metadata": {},
   "source": [
    "---\n",
    "toc: true\n",
    "comments: true\n",
    "layout: post\n",
    "title: Login/Signup Overview\n",
    "description: Login Overview Overview and Plans.\n",
    "type: plans\n",
    "courses: { compsci: {week: 4} }\n",
    "---\n",
    "\n",
    "# Overview of plans for login and signup page.\n",
    "- [ ] Create a login page.\n",
    "- [ ] Create a signup page.\n",
    "- [ ] Create a logout page.\n",
    "- [ ] Create a profile page.\n",
    "- [ ] Create badges for the profile based on user perms.\n",
    "- [ ] Create a page for the user to change their password (Maybe, This Will Be Hard).\n",
    "\n",
    "\n",
    "# Overview of plans database.\n",
    "- [ ] Create a database for the users.\n",
    "- [ ] Hash user passwords to store in the database.\n",
    "- [ ] Figure out how to implement a flask database into the github pages website\n",
    "\n",
    "# How to use flask.\n",
    "- [ ] Create a virtual environment.\n",
    "- [ ] Install flask.\n",
    "- [ ] Create a flask app.\n",
    "- [ ] Create a flask route.\n",
    "- [ ] Create a flask template.\n",
    "- [ ] Create a flask template route.\n",
    "- [ ] Create a flask template route with a variable.\n",
    "- [ ] Link flask to database\n",
    "- [ ] Link github pages to flask\n",
    "- [ ] Display username and data (For ease of use, implement localstorage to store username and data after login to not query database for every page load)"
   ]
  }
 ],
 "metadata": {
  "language_info": {
   "name": "python"
  }
 },
 "nbformat": 4,
 "nbformat_minor": 2
}
