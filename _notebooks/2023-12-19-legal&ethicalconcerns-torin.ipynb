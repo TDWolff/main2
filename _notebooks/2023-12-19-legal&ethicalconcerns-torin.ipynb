{
 "cells": [
  {
   "cell_type": "markdown",
   "metadata": {},
   "source": [
    "Popcorn Hack 1:\n",
    "A person can register for copyright law to protect their creation without your permission. Copyright law protects intellectual property by giving the creator exclusive rights to their creations.\n",
    "\n",
    "Popcorn Hack 2:\n",
    "A main advantage of Open source software for collaborators and programmers is that it is usually free to use and modify. This allows for a large group of people to work on the same project and make it better through continuous changes from the community.\n",
    "\n",
    "Homework:\n"
   ]
  }
 ],
 "metadata": {
  "language_info": {
   "name": "python"
  }
 },
 "nbformat": 4,
 "nbformat_minor": 2
}
