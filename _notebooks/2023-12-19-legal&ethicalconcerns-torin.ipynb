{
 "cells": [
  {
   "cell_type": "markdown",
   "metadata": {},
   "source": [
    "Popcorn Hack 1:\n",
    "A person can register for copyright law to protect their creation without your permission. Copyright law protects intellectual property by giving the creator exclusive rights to their creations.\n",
    "\n",
    "Popcorn Hack 2:\n",
    "A main advantage of Open source software for collaborators and programmers is that it is usually free to use and modify. This allows for a large group of people to work on the same project and make it better through continuous changes from the community.\n",
    "\n",
    "Homework:\n",
    "```\n",
    "i = 0\n",
    "#repeat until i >= 10\n",
    "while i < 10:\n",
    "    i += 1\n",
    "    print(i)\n",
    "```\n",
    "\n",
    "Analysis of the Legal and ethical concerns of computers:\n",
    "Copyright laws exist to protect the intellectual property of a creator and through different licenses a person can make a new or improved version of what the origianl author has made.\n"
   ]
  }
 ],
 "metadata": {
  "language_info": {
   "name": "python"
  }
 },
 "nbformat": 4,
 "nbformat_minor": 2
}
