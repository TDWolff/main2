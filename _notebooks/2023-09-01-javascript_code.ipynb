{
 "cells": [
  {
   "cell_type": "markdown",
   "metadata": {},
   "source": [
    "---\n",
    "toc: true\n",
    "comments: true\n",
    "layout: post\n",
    "title: Javascript Code Exhibit\n",
    "description: This will show javascript code and what its capable of.\n",
    "type: plans\n",
    "courses: { compsci: {week: 2} }\n",
    "---"
   ]
  },
  {
   "cell_type": "markdown",
   "metadata": {},
   "source": [
    "## Welcome To The JavaScript Code Exhibition Notebook Page!\n",
    "\n",
    "Here we will explore the amazing capabities of JavaScript in a .ipynb file.\n",
    "To start lets explore how to print a hello world function using JavaScript HTML."
   ]
  },
  {
   "cell_type": "code",
   "execution_count": 2,
   "metadata": {
    "vscode": {
     "languageId": "html"
    }
   },
   "outputs": [
    {
     "data": {
      "text/html": [
       "<!DOCTYPE html>\n",
       "<html>\n",
       "<head>\n",
       "    <title>Hello World Example</title>\n",
       "</head>\n",
       "<body>\n",
       "\n",
       "<button onclick=\"printHello()\">Click me</button>\n",
       "\n",
       "<script>\n",
       "function printHello() {\n",
       "    alert(\"Hello, World!\");\n",
       "}\n",
       "</script>\n",
       "\n",
       "</body>\n",
       "</html>\n"
      ],
      "text/plain": [
       "<IPython.core.display.HTML object>"
      ]
     },
     "metadata": {},
     "output_type": "display_data"
    }
   ],
   "source": [
    "%%html\n",
    "<!DOCTYPE html>\n",
    "<html>\n",
    "<head>\n",
    "    <title>Hello World Example</title>\n",
    "</head>\n",
    "<body>\n",
    "\n",
    "<button onclick=\"printHello()\">Click me</button>\n",
    "\n",
    "<script>\n",
    "function printHello() {\n",
    "    alert(\"Hello, World!\");\n",
    "}\n",
    "</script>\n",
    "\n",
    "</body>\n",
    "</html>"
   ]
  },
  {
   "cell_type": "markdown",
   "metadata": {},
   "source": [
    "You will notice that when you click the button a pop-up window appears with a string of text inside \"Hello World\". This is how you make a simple hello world text appear! Now that we know the basics lets get into something a little harder. Lets make a script that listens for when the player clicks a button that moves a cube up and down!"
   ]
  },
  {
   "cell_type": "code",
   "execution_count": 22,
   "metadata": {
    "vscode": {
     "languageId": "html"
    }
   },
   "outputs": [
    {
     "data": {
      "text/html": [
       "\n",
       "<!DOCTYPE html>\n",
       "<html>\n",
       "<head>\n",
       "<style>\n",
       "    .container {\n",
       "        position: relative;\n",
       "        width: 100px; /* Adjust as needed */\n",
       "        height: 100px; /* Adjust as needed */\n",
       "    }\n",
       "\n",
       "    .cube {\n",
       "        width: 30px;\n",
       "        height: 30px;\n",
       "        background-color: red;\n",
       "        position: absolute;\n",
       "        bottom: 0;\n",
       "    }\n",
       "</style>\n",
       "</head>\n",
       "<body>\n",
       "<div class=\"container\">\n",
       "    <div class=\"cube\" id=\"cube\"></div>\n",
       "</div>\n",
       "<button onclick=\"jump()\">Jump</button>\n",
       "\n",
       "<script>\n",
       "var cubeElement = document.getElementById('cube');\n",
       "var gravity = 0.1;\n",
       "var jumpStrength = -3;\n",
       "var isJumping = false;\n",
       "\n",
       "function jump() {\n",
       "    if (!isJumping) {\n",
       "        isJumping = true;\n",
       "        cubeElement.style.bottom = '60px'; // Jump height, adjust as needed\n",
       "        setTimeout(function() {\n",
       "            cubeElement.style.bottom = '0px'; // Reset to ground\n",
       "            isJumping = false;\n",
       "        }, 1000); // Adjust the jump duration as needed\n",
       "    }\n",
       "}\n",
       "</script>\n",
       "</body>\n",
       "</html>\n"
      ],
      "text/plain": [
       "<IPython.core.display.HTML object>"
      ]
     },
     "execution_count": 22,
     "metadata": {},
     "output_type": "execute_result"
    }
   ],
   "source": [
    "from IPython.display import HTML\n",
    "\n",
    "html_code = \"\"\"\n",
    "<!DOCTYPE html>\n",
    "<html>\n",
    "<head>\n",
    "<style>\n",
    "    .container {\n",
    "        position: relative;\n",
    "        width: 100px; /* Adjust as needed */\n",
    "        height: 100px; /* Adjust as needed */\n",
    "    }\n",
    "\n",
    "    .cube {\n",
    "        width: 30px;\n",
    "        height: 30px;\n",
    "        background-color: red;\n",
    "        position: absolute;\n",
    "        bottom: 0;\n",
    "    }\n",
    "</style>\n",
    "</head>\n",
    "<body>\n",
    "<div class=\"container\">\n",
    "    <div class=\"cube\" id=\"cube\"></div>\n",
    "</div>\n",
    "<button onclick=\"jump()\">Jump</button>\n",
    "\n",
    "<script>\n",
    "var cubeElement = document.getElementById('cube');\n",
    "var gravity = 0.1;\n",
    "var jumpStrength = -3;\n",
    "var isJumping = false;\n",
    "\n",
    "function jump() {\n",
    "    if (!isJumping) {\n",
    "        isJumping = true;\n",
    "        cubeElement.style.bottom = '60px'; // Jump height, adjust as needed\n",
    "        setTimeout(function() {\n",
    "            cubeElement.style.bottom = '0px'; // Reset to ground\n",
    "            isJumping = false;\n",
    "        }, 1000); // Adjust the jump duration as needed\n",
    "    }\n",
    "}\n",
    "</script>\n",
    "</body>\n",
    "</html>\n",
    "\"\"\"\n",
    "\n",
    "HTML(html_code)\n"
   ]
  }
 ],
 "metadata": {
  "kernelspec": {
   "display_name": "Python 3",
   "language": "python",
   "name": "python3"
  },
  "language_info": {
   "codemirror_mode": {
    "name": "ipython",
    "version": 3
   },
   "file_extension": ".py",
   "mimetype": "text/x-python",
   "name": "python",
   "nbconvert_exporter": "python",
   "pygments_lexer": "ipython3",
   "version": "3.11.1"
  },
  "orig_nbformat": 4
 },
 "nbformat": 4,
 "nbformat_minor": 2
}
