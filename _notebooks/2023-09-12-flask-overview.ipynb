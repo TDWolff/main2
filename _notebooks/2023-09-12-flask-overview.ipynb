{
 "cells": [
  {
   "cell_type": "markdown",
   "metadata": {},
   "source": [
    "---\n",
    "toc: true\n",
    "comments: true\n",
    "layout: post\n",
    "title: Flask Overview\n",
    "description: Flask Overview and Tips.\n",
    "type: plans\n",
    "courses: { compsci: {week: 4} }\n",
    "---"
   ]
  },
  {
   "cell_type": "markdown",
   "metadata": {},
   "source": [
    "## Flask Overview\n",
    "Flask is a micro web framework written in Python. It is classified as a microframework because it does not require particular tools or libraries. It has no database abstraction layer, form validation, or any other components where pre-existing third-party libraries provide common functions. However, Flask supports extensions that can add application features as if they were implemented in Flask itself. Extensions exist for object-relational mappers, form validation, upload handling, various open authentication technologies and several common framework related tools. Extensions are updated far more regularly than the core Flask program. Flask is commonly used with MongoDB, which is a document-oriented NoSQL database engine that stores data in JSON-like formats.\n",
    "## Flask Tips\n",
    "When you are using Flask, you may encounter some problems that are not easy to solve. Here are some tips that may help you.\n",
    "### 1. Modules not found\n",
    "Sometimes your python editor cannot recogize the modules you imported. You can try to install the modules in the terminal. For example, if you want to install flask, you can type `pip install flask` in the terminal. If you are using python3, you can type `pip3 install flask` in the terminal. And if that doesn't work you can try installing them via a cell in your notebook. For example, if you want to install flask, you can type `!pip install flask` in a cell. If you are using python3, you can type `!pip3 install flask` in a cell.\n",
    "### 2. Flask cannot find the html file\n",
    "When you are using flask, you may encounter the problem that flask cannot find the html file. You can try to use `app = Flask(__name__, template_folder='templates')` to solve this problem. You can also try to use `app = Flask(__name__, template_folder='templates', static_folder='static')` to solve this problem.\n",
    "### 3. Flask cannot find the css file\n",
    "When you are using flask, you may encounter the problem that flask cannot find the css file. You can try to use `app = Flask(__name__, template_folder='templates', static_folder='static')` to solve this problem.\n",
    "## Flask Example \n",
    "At the end of the Flask Server Setup doc, you should end up with a flask app structure that looks like this:\n",
    "\n",
    "[Open the Flask Server Website](http://127.0.0.1:5001/api/data)\n",
    "\n",
    "<iframe src=\"http://127.0.0.1:5001/api/data\" width=\"500\" height=\"300\"></iframe>"
   ]
  }
 ],
 "metadata": {
  "language_info": {
   "name": "python"
  },
  "orig_nbformat": 4
 },
 "nbformat": 4,
 "nbformat_minor": 2
}
