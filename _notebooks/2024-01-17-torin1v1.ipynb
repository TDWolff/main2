{
 "cells": [
  {
   "cell_type": "markdown",
   "metadata": {},
   "source": [
    "---\n",
    "toc: true\n",
    "comments: true\n",
    "layout: post\n",
    "title: Individual Review Ticket\n",
    "description: Individual Review Ticket for Torin Wolff\n",
    "type: plans\n",
    "courses: { compsci: {week: 8} }\n",
    "---\n",
    "\n",
    "# Welcome to my individual review ticket\n",
    "\n",
    "\n",
    "## Table ticket\n",
    "[Table ticket](https://github.com/nighthawkcoders/teacher_portfolio/issues/92#:~:text=P2%2C%20Torin%20Wolff%2C%20Happy%20New%20Year), this is the link to the table ticket tha goes over all the team teach work.\n",
    "\n",
    "## Individual work\n",
    "- Key Commits\n",
    "    - [Commit 1](https://github.com/TDWolff/AtlasIndex/commit/08cf260211af5b64f2dad8f12333dff22b97a7c4), finallized the dark and light mode feature on AtlasIndex webpage.\n",
    "    - [Commit 2](https://github.com/TDWolff/AtlasIndex/commit/3079945013cacb4f4e5191c05ffc2dd06c2c88d2), this marked the start of the light and dark featuer by stripping down the css and html to is bare minimum.\n",
    "    - [Commit 3](https://github.com/TDWolff/NART_Movie/commit/4445621aa56cf41977c34a87577ceb0419924cbe), this commit was when I finished the movie recommendation system and added finishing touches before night @ the museum.\n",
    "    - [Commit 4](https://github.com/TDWolff/NART_Movie/commit/8de6b483917f7a6c678cdeab9255744b98c7ba37), finished the movie db and increased overall movie count, the movie db page also was touched up.\n",
    "\n",
    "## Weekly plans for CPT prep\n",
    "- Week 1\n",
    "    - We plan on working idealizing a on a login system for the website that utilizes a db and a vps to store the data.\n",
    "    - Finish ideation and begin planning out the page design\n",
    "- Week 2\n",
    "    - Start work on login stystem with csv and connections fromthe github pages website and the vps.\n",
    "    - Start working on a db to store the username, password, and maybe email for fraud prevention\n",
    "    - Idealizing the home page and recommendations based on personal preferences\n",
    "- Week 3\n",
    "    - Finish the login system and start working on the home page\n",
    "    - Start working on realtime stock monitering system\n",
    "    - Continue work on designing the webpage\n",
    "- Week 4\n",
    "    - Finish the home page and start working on the stock monitering system\n",
    "    - Start working on the stock monitering system\n",
    "    - Continue work on designing the webpage\n",
    "- Week 5\n",
    "    - Finish the stock monitering system and start working on the stock prediction system\n",
    "    - finsih a stock prediction system\n",
    "    - (If all is done) Work on currency conversion system for USD > Bitcoin, or CAD > USD, etc."
   ]
  }
 ],
 "metadata": {
  "language_info": {
   "name": "python"
  }
 },
 "nbformat": 4,
 "nbformat_minor": 2
}
