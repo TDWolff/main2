{
 "cells": [
  {
   "cell_type": "markdown",
   "metadata": {},
   "source": [
    "---\n",
    "toc: true\n",
    "comments: true\n",
    "layout: post\n",
    "title: Individual Review Ticket\n",
    "description: Individual Review Ticket for Torin Wolff\n",
    "type: plans\n",
    "courses: { compsci: {week: 25} }\n",
    "---"
   ]
  },
  {
   "cell_type": "markdown",
   "metadata": {},
   "source": [
    "## Individual work\n",
    "- Key Commits\n",
    "    - [Commit ca3320d](https://github.com/TDWolff/cpt/commit/10aaf1965788877f86780758bbded6919cea68d2), this commit was first compeltion of titanic dataset module\n",
    "    - [Commit  a5573d7 + 987b439](https://github.com/TDWolff/cpt/commit/9fd0215c603a713c0e22231b5d5ce516aefd9a6d), finally got around CORS issues.\n",
    "    - [Commit 536ee5a](https://github.com/TDWolff/cpt/commit/987b4399a331f1c7abba9b84945d2934023ff3b1), I got CPT requirments done and finished my part of the project\n",
    "\n",
    "## Weekly plans for achieving ML goals\n",
    "Week 25:\n",
    "- Increase training data for ai image detector\n",
    "- complete basic training\n",
    "- start on advanced training with >25k images\n",
    "  \n",
    "Week 26:\n",
    "- start working on converting the model to a backend api call\n",
    "- start working on the frontend for the model\n",
    "\n",
    "Week 27:\n",
    "- finish the frontend and backend for the model\n",
    "- start working on the final project\n",
    "\n",
    "## What I did\n",
    "![stocksearch](/main2/images/stocksearch.png)\n",
    "<div style=\"display: flex; align-items: flex-start;\">\n",
    "<p>\n",
    "I worked on a stock search algorithm where I provide vital information about a stock as seen in F1. This was done using the YahooFinance API which allowed me to find the current price of a stock found via the symbol and other necessary information such as EPS, PE, Average Volume, and Price Average over 50, and 200 days. I personally enjoyed making this feature because it allowed me to discover and learn about stocks which I enjoy researching.\n",
    "</p>\n",
    "</div>"
   ]
  }
 ],
 "metadata": {
  "language_info": {
   "name": "python"
  }
 },
 "nbformat": 4,
 "nbformat_minor": 2
}
