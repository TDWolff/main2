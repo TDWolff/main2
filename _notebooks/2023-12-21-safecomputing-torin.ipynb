{
 "cells": [
  {
   "cell_type": "markdown",
   "metadata": {},
   "source": [
    "Popcorn Hack 1:\n",
    "Some measures that individuals can take to protect their PII can include:\n",
    "- Using a VPN to mask your IP address\n",
    "- Using a password manager to create and store strong passwords\n",
    "- Using two-factor authentication when possible\n",
    "\n",
    "Popcorn Hack 2:\n",
    "If you have \"mjqqt\" encrpyted in Ceaser Cipher with a shift of 5, the plaintext is \"hello\".\n",
    "\n",
    "Popcorn Hack 3:\n",
    "People can access your information through your IP address which can be found if you are connected to a wifi network. This is why it is important to use a VPN to mask your IP address. A VPN will encrypt your data and hide your IP address so that people cannot access your information. Another way that people can access your information is through your passwords.\n",
    "\n",
    "Overview:\n",
    "Being safe on the internet is important. There are many ways that people can protect their PII. Some of these ways include using a VPN to mask your IP address, using a password manager to create and store strong passwords, and using two-factor authentication when possible. If you have \"mjqqt\" encrpyted in Ceaser Cipher with a shift of 5, the plaintext is \"hello\". You can use this information to protect your PII and be safe on the internet. PII's are important because they can be used to identify you and your personal information. This is why it is important to protect your PII and be safe on the internet. To keep your PII safe, you should be careful on where you share your PII. You should also be careful on what websites you visit and what information you share on those.\n"
   ]
  }
 ],
 "metadata": {
  "language_info": {
   "name": "python"
  }
 },
 "nbformat": 4,
 "nbformat_minor": 2
}
