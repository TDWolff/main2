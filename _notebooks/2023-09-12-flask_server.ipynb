{
 "cells": [
  {
   "cell_type": "markdown",
   "metadata": {},
   "source": [
    "---\n",
    "toc: true\n",
    "comments: true\n",
    "layout: post\n",
    "title: Flask With Python\n",
    "description: Walkthrough of making the flask server\n",
    "type: hacks\n",
    "courses: { compsci: {week: 4} }\n",
    "---"
   ]
  },
  {
   "cell_type": "markdown",
   "metadata": {},
   "source": [
    "# Flask Server"
   ]
  },
  {
   "cell_type": "markdown",
   "metadata": {},
   "source": [
    "## What is Flask?\n",
    "Flask is a micro web framework written in Python. It is classified as a microframework because it does not require particular tools or libraries. It has no database abstraction layer, form validation, or any other components where pre-existing third-party libraries provide common functions. However, Flask supports extensions that can add application features as if they were implemented in Flask itself. Extensions exist for object-relational mappers, form validation, upload handling, various open authentication technologies and several common framework related tools. Extensions are updated far more regularly than the core Flask program.\n",
    "## Why Flask?\n",
    "Flask is a lightweight WSGI web application framework. It is designed to make getting started quick and easy, with the ability to scale up to complex applications. It began as a simple wrapper around Werkzeug and Jinja and has become one of the most popular Python web application frameworks.\n",
    "\n",
    "## How to install Flask?\n",
    "Flask is a Python module and can be installed with pip. Install Flask using the command below:\n",
    "```bash\n",
    "pip install Flask\n",
    "```\n",
    "\n",
    "## How to use Flask?\n",
    "Flask is easy to use. You just need to import the Flask module and create an instance of the Flask class for your web app. Lets get started with  making your first Flask app.\n",
    "\n",
    "Important:\n",
    "Make sure your port # does not match your already open github pages port #. If it does, you will need to close the github pages server before running the flask server.\n",
    "\n",
    "Example: port # 4200 is the github pages port, if the flask is the same port it will not work so i would choose 5001 or a different port #."
   ]
  },
  {
   "cell_type": "code",
   "execution_count": 7,
   "metadata": {},
   "outputs": [],
   "source": [
    "# ALERT: If you are experiencing issues with your flask module, try making a new cell and running the following command:\n",
    "# !pip install flask\n",
    "# !pip install flask_cors\n",
    "# If that doesn't sort it out please reach out to a teacher or fellow student for more help."
   ]
  },
  {
   "cell_type": "code",
   "execution_count": 15,
   "metadata": {},
   "outputs": [],
   "source": [
    "%%python --bg\n",
    "\n",
    "# Using the --bg allows us to run the cell in the background, so we can continue to use the notebook while the server is running. For Debugging purposes, we will keep --bg commented out.\n",
    "\n",
    "from flask import Flask, jsonify\n",
    "from flask_cors import CORS\n",
    "\n",
    "#If You are experienceing issues please reffer to the upper code and run those two commands.\n",
    "\n",
    "# initialize a flask application (app)\n",
    "app = Flask(__name__)\n",
    "CORS(app, supports_credentials=True, origins='*')  # Allow all origins (*)\n",
    "\n",
    "# ... your existing Flask\n",
    "\n",
    "# add an api endpoint to flask app\n",
    "@app.route('/api/data')\n",
    "def get_data():\n",
    "    # start a list, to be used like a information database\n",
    "    CarModels = []\n",
    "\n",
    "    # Add information about a car model\n",
    "    CarModels.append({\n",
    "        \"Brand\": \"Toyota\",\n",
    "        \"Model\": \"Camry\",\n",
    "        \"Color\": \"Silver\",\n",
    "        \"Price\": \"$25000\",\n",
    "        \"Year\": \"2022\"\n",
    "    })\n",
    "\n",
    "    # Add information about another car model\n",
    "    CarModels.append({\n",
    "        \"Brand\": \"Honda\",\n",
    "        \"Model\": \"Civic\",\n",
    "        \"Color\": \"Blue\",\n",
    "        \"Price\": \"$23000\",\n",
    "        \"Year\": \"2021\"\n",
    "    })\n",
    "\n",
    "    \n",
    "    return jsonify(CarModels)\n",
    "\n",
    "# add an HTML endpoint to flask app\n",
    "@app.route('/')\n",
    "def say_hello():\n",
    "    html_content = \"\"\"\n",
    "<html>\n",
    "<head>\n",
    "    <title>Car Models</title>\n",
    "</head>\n",
    "<body>\n",
    "    <h2>Car Models</h2>\n",
    "    <ul>\n",
    "    {% for car in car_models %}\n",
    "        <li>\n",
    "            Brand: {{ car.Brand }}, Model: {{ car.Model }},\n",
    "            Color: {{ car.Color }}, Price: ${{ car.Price }},\n",
    "            Year: {{ car.Year }}\n",
    "        </li>\n",
    "    {% endfor %}\n",
    "    </ul>\n",
    "</body>\n",
    "</html>\n",
    "\"\"\"\n",
    "    return html_content\n",
    "\n",
    "if __name__ == '__main__':\n",
    "    print(\"Starting Python Flask Server For Home Page\")\n",
    "    # starts flask server on default port, http://127.0.0.1:5001\n",
    "    app.run(port=5001)\n",
    "\n",
    "# Once the flask app is up and running you should see this below: Starting Python Flask Server For Home Page\n",
    "# * Serving Flask app '<stdin>'\n",
    "# * Debug mode: off\n",
    "#WARNING: This is a development server. Do not use it in a production deployment. Use a production WSGI server instead.\n",
    "# * Running on http://127.0.0.1:5001\n",
    "#Press CTRL+C to quit\n",
    "#Process is interrupted.\n"
   ]
  },
  {
   "cell_type": "markdown",
   "metadata": {},
   "source": [
    "<span style=\"color:red\">ONCE DONE AND YOU HAVE SERVER UP AND RUNNING, STOP  THE SERVER AND UNCOMMENT BG OR ELSE YOU WONT BE ABLE TO CONTINUE!!</span>\n",
    "\n",
    "\n",
    "## Showing the flask processes in the background.\n"
   ]
  },
  {
   "cell_type": "code",
   "execution_count": 16,
   "metadata": {},
   "outputs": [
    {
     "name": "stdout",
     "output_type": "stream",
     "text": [
      "COMMAND   PID       USER   FD   TYPE             DEVICE SIZE/OFF NODE NAME\n",
      "Python  61791 torinwolff    3u  IPv4 0x1f387506ba4f61c3      0t0  TCP localhost:commplex-link (LISTEN)\n"
     ]
    }
   ],
   "source": [
    "%%script bash\n",
    "\n",
    "# After app.run(), see what the flask server is doing.\n",
    "lsof -i :5001\n"
   ]
  },
  {
   "cell_type": "markdown",
   "metadata": {},
   "source": [
    "## Access the flask server to read background data.\n",
    "Here we will be using the requests module to access the flask server and read the data from the background process."
   ]
  },
  {
   "cell_type": "code",
   "execution_count": null,
   "metadata": {},
   "outputs": [],
   "source": [
    "#!pip install requests"
   ]
  },
  {
   "cell_type": "code",
   "execution_count": 17,
   "metadata": {},
   "outputs": [
    {
     "data": {
      "text/plain": [
       "[{'Brand': 'Toyota',\n",
       "  'Color': 'Silver',\n",
       "  'Model': 'Camry',\n",
       "  'Price': '$25000',\n",
       "  'Year': '2022'},\n",
       " {'Brand': 'Honda',\n",
       "  'Color': 'Blue',\n",
       "  'Model': 'Civic',\n",
       "  'Price': '$23000',\n",
       "  'Year': '2021'}]"
      ]
     },
     "execution_count": 17,
     "metadata": {},
     "output_type": "execute_result"
    }
   ],
   "source": [
    "import requests\n",
    "res = requests.get('http://127.0.0.1:5001/api/data')\n",
    "res.json()\n",
    "\n",
    "# If you get a \"request module not found\" please uncomment the line in the cell above and run it to install the module."
   ]
  },
  {
   "cell_type": "markdown",
   "metadata": {},
   "source": [
    "## What does the data look like on the flask server?\n",
    "Now lets see what our table looks like on the flask server. since we have successfuly added data to the table.\n",
    "[Open the Flask Server Website](http://127.0.0.1:5001/api/data)\n",
    "\n",
    "<iframe src=\"http://127.0.0.1:5001/api/data\" width=\"500\" height=\"300\"></iframe>\n",
    "\n",
    "## How to stop the flask server?\n",
    "To kill the flask server simply run the python code below."
   ]
  },
  {
   "cell_type": "code",
   "execution_count": 12,
   "metadata": {},
   "outputs": [],
   "source": [
    "%%script bash\n",
    "\n",
    "lsof -i :5001 | awk '/Python/ {print $2}' | xargs kill -9\n"
   ]
  },
  {
   "cell_type": "markdown",
   "metadata": {},
   "source": [
    "## Overview\n",
    "After completing this tutorial you should have a basic understanding of how to use flask and how to create a flask server. You should also have a basic understanding of how to use the requests module to access the flask server and read the data from the background process. You should also have a basic understanding of how to stop the flask server. Now you can use this knowledge to create your own flask server and use it to store data in a database and modify the flask server to your liking."
   ]
  }
 ],
 "metadata": {
  "kernelspec": {
   "display_name": "Python 3",
   "language": "python",
   "name": "python3"
  },
  "language_info": {
   "codemirror_mode": {
    "name": "ipython",
    "version": 3
   },
   "file_extension": ".py",
   "mimetype": "text/x-python",
   "name": "python",
   "nbconvert_exporter": "python",
   "pygments_lexer": "ipython3",
   "version": "3.11.5"
  },
  "orig_nbformat": 4
 },
 "nbformat": 4,
 "nbformat_minor": 2
}
