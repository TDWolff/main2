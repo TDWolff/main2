{
 "cells": [
  {
   "cell_type": "markdown",
   "metadata": {},
   "source": [
    "Popcorn Hack #1\n",
    "Certain ages of users on the internet are not allowed to view certain content. A persons education level also limits their ability to use the interent and view certain content. An occupation can prevent someone from being able to access the internet as it may be unsafe for work.\n",
    "\n",
    "Popcorn Hack #2\n",
    "If you grew up without using the internet and suddenly had to use it for school, it would be very hard for you to get started as you probably are used to paper and pencil but everything is online here.\n",
    "\n",
    "Popcorn Hack #3\n",
    "One country that was heavily impacted by the digital divide would be India as they have a very large population and a lot of people are not able to access the internet. This is because of the lack of infrastructure and the lack of money to pay for the internet."
   ]
  }
 ],
 "metadata": {
  "language_info": {
   "name": "python"
  }
 },
 "nbformat": 4,
 "nbformat_minor": 2
}
