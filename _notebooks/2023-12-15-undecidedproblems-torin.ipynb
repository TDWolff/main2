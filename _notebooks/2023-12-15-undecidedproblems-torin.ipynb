{
 "cells": [
  {
   "cell_type": "markdown",
   "metadata": {},
   "source": [
    "Popcorn Hack 1:\n",
    "Correct answer is B because \"unreachable code\" is usually a sign of a bug in the program so it makes sense for the author to be able to \"reach\" the code.\n",
    "\n",
    "Popcorn Hack 2:\n",
    "Correct answer is A because it best describes the halting problem in technology.\n",
    "\n",
    "Popcorn Hack 3:\n",
    "The answer is D as it is not an example of an undeciable problem.\n",
    "\n",
    "Homework links:\n",
    "<a href=\"https://docs.google.com/forms/d/e/1FAIpQLScdkCjjYFUBdRN9O1icNyhM5hWNue0VzPXlCZ5q3QGGsN_Vsw/viewform?usp=usp=sf_link\"> Google Form Quiz</a>\n",
    "Completed"
   ]
  }
 ],
 "metadata": {
  "language_info": {
   "name": "python"
  }
 },
 "nbformat": 4,
 "nbformat_minor": 2
}
