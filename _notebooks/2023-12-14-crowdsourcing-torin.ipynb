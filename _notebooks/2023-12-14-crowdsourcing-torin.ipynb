{
 "cells": [
  {
   "cell_type": "markdown",
   "metadata": {},
   "source": [
    "Popcorn Hack 1\n",
    "A public dataset is a dataset that is made freely available to the public. Public datasets may be published by anyone, and may be hosted by any organization. They need not be open data, but they should be available for download and analysis. Public datasets are often hosted on public cloud services, such as the Google Public Dataset Program or Amazon Web Services Public Datasets, but may also be hosted on university servers, or on other organization's servers.\n",
    "\n",
    "Popcorn Hack 2\n",
    "Distrubuted computing is a field of computer science that studies distributed systems. A distributed system is a system whose components are located on different networked computers, which communicate and coordinate their actions by passing messages to one another. The components interact with one another in order to achieve a common goal. Three significant characteristics of distributed systems are: concurrency of components, lack of a global clock, and independent failure of components. Examples of distributed systems vary from SOA-based systems to massively multiplayer online games to peer-to-peer applications.\n",
    "\n",
    "Homework"
   ]
  }
 ],
 "metadata": {
  "language_info": {
   "name": "python"
  }
 },
 "nbformat": 4,
 "nbformat_minor": 2
}
